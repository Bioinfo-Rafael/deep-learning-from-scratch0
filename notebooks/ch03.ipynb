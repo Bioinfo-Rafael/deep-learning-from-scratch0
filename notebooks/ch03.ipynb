{
  "cells": [
    {
      "cell_type": "markdown",
      "metadata": {
        "id": "CL5W7eZ6HILl"
      },
      "source": [
        "# ch03/step_function.py"
      ]
    },
    {
      "cell_type": "code",
      "source": [
        "import numpy as np\n",
        "import matplotlib.pylab as plt"
      ],
      "metadata": {
        "id": "ViiuwpcnIJBw"
      },
      "execution_count": 1,
      "outputs": []
    },
    {
      "cell_type": "markdown",
      "source": [
        "## 解説"
      ],
      "metadata": {
        "id": "UrbMsMyeJQqG"
      }
    },
    {
      "cell_type": "code",
      "source": [
        "def step_function(x):\n",
        "    \"\"\"\n",
        "    入力\n",
        "        x : nd.array, shape=(N,)\n",
        "    出力\n",
        "        x : nd.array, , shape=(N,)\n",
        "\n",
        "    ーー処理ーー\n",
        "    1. x>0で、xの配列のうち0より大きい成分はTrueに置き換わり、それ以外はFalseに置き換わった配列が生成される。\n",
        "    2. np.array(配列, dtype=int)でTrue, Falseが1,0に置き換わった配列になる。\n",
        "    \"\"\"\n",
        "    return np.array(x > 0, dtype=int)"
      ],
      "metadata": {
        "id": "L9VlbX_0IGfq"
      },
      "execution_count": 3,
      "outputs": []
    },
    {
      "cell_type": "code",
      "source": [
        "# 1. x>0で、xの配列のうち0より大きい成分はTrueに置き換わり、それ以外はFalseに置き換わった配列が生成される。\n",
        "X = np.arange(-5.0, 5.0, 0.1)\n",
        "X_ = X>0\n",
        "X_"
      ],
      "metadata": {
        "colab": {
          "base_uri": "https://localhost:8080/"
        },
        "id": "VwKCtdN1I5Jp",
        "outputId": "51319075-512e-48e7-acd0-96043910b307"
      },
      "execution_count": 6,
      "outputs": [
        {
          "output_type": "execute_result",
          "data": {
            "text/plain": [
              "array([False, False, False, False, False, False, False, False, False,\n",
              "       False, False, False, False, False, False, False, False, False,\n",
              "       False, False, False, False, False, False, False, False, False,\n",
              "       False, False, False, False, False, False, False, False, False,\n",
              "       False, False, False, False, False, False, False, False, False,\n",
              "       False, False, False, False, False, False,  True,  True,  True,\n",
              "        True,  True,  True,  True,  True,  True,  True,  True,  True,\n",
              "        True,  True,  True,  True,  True,  True,  True,  True,  True,\n",
              "        True,  True,  True,  True,  True,  True,  True,  True,  True,\n",
              "        True,  True,  True,  True,  True,  True,  True,  True,  True,\n",
              "        True,  True,  True,  True,  True,  True,  True,  True,  True,\n",
              "        True])"
            ]
          },
          "metadata": {},
          "execution_count": 6
        }
      ]
    },
    {
      "cell_type": "code",
      "source": [
        "# 2. np.array(配列, dtype=int)でTrue, Falseが1,0に置き換わった配列になる。\n",
        "np.array(X_, dtype=int)"
      ],
      "metadata": {
        "colab": {
          "base_uri": "https://localhost:8080/"
        },
        "id": "kf-upzTKJMK_",
        "outputId": "2f5e8f0a-f919-4445-8b4d-a4d09360b77f"
      },
      "execution_count": 7,
      "outputs": [
        {
          "output_type": "execute_result",
          "data": {
            "text/plain": [
              "array([0, 0, 0, 0, 0, 0, 0, 0, 0, 0, 0, 0, 0, 0, 0, 0, 0, 0, 0, 0, 0, 0,\n",
              "       0, 0, 0, 0, 0, 0, 0, 0, 0, 0, 0, 0, 0, 0, 0, 0, 0, 0, 0, 0, 0, 0,\n",
              "       0, 0, 0, 0, 0, 0, 0, 1, 1, 1, 1, 1, 1, 1, 1, 1, 1, 1, 1, 1, 1, 1,\n",
              "       1, 1, 1, 1, 1, 1, 1, 1, 1, 1, 1, 1, 1, 1, 1, 1, 1, 1, 1, 1, 1, 1,\n",
              "       1, 1, 1, 1, 1, 1, 1, 1, 1, 1, 1, 1])"
            ]
          },
          "metadata": {},
          "execution_count": 7
        }
      ]
    },
    {
      "cell_type": "markdown",
      "source": [
        "## 完全なコード"
      ],
      "metadata": {
        "id": "hOqKcj4WJWP1"
      }
    },
    {
      "cell_type": "code",
      "execution_count": null,
      "metadata": {
        "id": "JdVw1op8HILm",
        "outputId": "9b005221-caf5-4912-8d37-15f27d0e04f0"
      },
      "outputs": [
        {
          "data": {
            "image/png": "[encoded data removed]",
            "text/plain": [
              "<Figure size 640x480 with 1 Axes>"
            ]
          },
          "metadata": {},
          "output_type": "display_data"
        }
      ],
      "source": [
        "import numpy as np\n",
        "import matplotlib.pylab as plt\n",
        "def step_function(x):\n",
        "    return np.array(x > 0, dtype=int)\n",
        "\n",
        "X = np.arange(-5.0, 5.0, 0.1)\n",
        "Y = step_function(X)\n",
        "plt.plot(X, Y) #0.1ずつのデータの間を自動で補完して連続データっぽく見せている。\n",
        "plt.ylim(-0.1, 1.1)  # 図で描画するy軸の範囲を指定\n",
        "plt.show()"
      ]
    },
    {
      "cell_type": "markdown",
      "metadata": {
        "id": "TR74zsfFHILn"
      },
      "source": [
        "# ch03/sigmoid.py"
      ]
    },
    {
      "cell_type": "markdown",
      "source": [
        "## 解説"
      ],
      "metadata": {
        "id": "WmGW2CRZKHNs"
      }
    },
    {
      "cell_type": "code",
      "source": [
        "X = np.arange(-5.0, 5.0, 0.1)"
      ],
      "metadata": {
        "id": "74MQzR81KOVY"
      },
      "execution_count": 8,
      "outputs": []
    },
    {
      "cell_type": "code",
      "source": [
        "def sigmoid(x):\n",
        "    \"\"\"\n",
        "    入力\n",
        "        x : nd.array, shape=(N,)\n",
        "    出力\n",
        "        x : nd.array, , shape=(N,)\n",
        "\n",
        "    ーー処理ーー\n",
        "    1. np.exp(-x)がxの配列の要素ごとに作用する。\n",
        "    2. 1/(1+X)がXの配列の要素ごとに作用する。\n",
        "    \"\"\"\n",
        "    return 1 / (1 + np.exp(-x))"
      ],
      "metadata": {
        "id": "CLCzkCi8KGhs"
      },
      "execution_count": 9,
      "outputs": []
    },
    {
      "cell_type": "code",
      "source": [
        "#   1. np.exp(-x)がxの配列の要素ごとに作用する。\n",
        "X_ = np.exp(-X)\n",
        "X_"
      ],
      "metadata": {
        "colab": {
          "base_uri": "https://localhost:8080/"
        },
        "id": "vaGmErOfKL9A",
        "outputId": "a47c793e-5c92-4ece-8b44-ec0658426e3a"
      },
      "execution_count": 10,
      "outputs": [
        {
          "output_type": "execute_result",
          "data": {
            "text/plain": [
              "array([1.48413159e+02, 1.34289780e+02, 1.21510418e+02, 1.09947172e+02,\n",
              "       9.94843156e+01, 9.00171313e+01, 8.14508687e+01, 7.36997937e+01,\n",
              "       6.66863310e+01, 6.03402876e+01, 5.45981500e+01, 4.94024491e+01,\n",
              "       4.47011845e+01, 4.04473044e+01, 3.65982344e+01, 3.31154520e+01,\n",
              "       2.99641000e+01, 2.71126389e+01, 2.45325302e+01, 2.21979513e+01,\n",
              "       2.00855369e+01, 1.81741454e+01, 1.64446468e+01, 1.48797317e+01,\n",
              "       1.34637380e+01, 1.21824940e+01, 1.10231764e+01, 9.97418245e+00,\n",
              "       9.02501350e+00, 8.16616991e+00, 7.38905610e+00, 6.68589444e+00,\n",
              "       6.04964746e+00, 5.47394739e+00, 4.95303242e+00, 4.48168907e+00,\n",
              "       4.05519997e+00, 3.66929667e+00, 3.32011692e+00, 3.00416602e+00,\n",
              "       2.71828183e+00, 2.45960311e+00, 2.22554093e+00, 2.01375271e+00,\n",
              "       1.82211880e+00, 1.64872127e+00, 1.49182470e+00, 1.34985881e+00,\n",
              "       1.22140276e+00, 1.10517092e+00, 1.00000000e+00, 9.04837418e-01,\n",
              "       8.18730753e-01, 7.40818221e-01, 6.70320046e-01, 6.06530660e-01,\n",
              "       5.48811636e-01, 4.96585304e-01, 4.49328964e-01, 4.06569660e-01,\n",
              "       3.67879441e-01, 3.32871084e-01, 3.01194212e-01, 2.72531793e-01,\n",
              "       2.46596964e-01, 2.23130160e-01, 2.01896518e-01, 1.82683524e-01,\n",
              "       1.65298888e-01, 1.49568619e-01, 1.35335283e-01, 1.22456428e-01,\n",
              "       1.10803158e-01, 1.00258844e-01, 9.07179533e-02, 8.20849986e-02,\n",
              "       7.42735782e-02, 6.72055127e-02, 6.08100626e-02, 5.50232201e-02,\n",
              "       4.97870684e-02, 4.50492024e-02, 4.07622040e-02, 3.68831674e-02,\n",
              "       3.33732700e-02, 3.01973834e-02, 2.73237224e-02, 2.47235265e-02,\n",
              "       2.23707719e-02, 2.02419114e-02, 1.83156389e-02, 1.65726754e-02,\n",
              "       1.49955768e-02, 1.35685590e-02, 1.22773399e-02, 1.11089965e-02,\n",
              "       1.00518357e-02, 9.09527710e-03, 8.22974705e-03, 7.44658307e-03])"
            ]
          },
          "metadata": {},
          "execution_count": 10
        }
      ]
    },
    {
      "cell_type": "code",
      "source": [
        "#2. 1/(1+X)がXの配列の要素ごとに作用する。\n",
        "1/(1+X_)"
      ],
      "metadata": {
        "colab": {
          "base_uri": "https://localhost:8080/"
        },
        "id": "_BDBzaXnKTyf",
        "outputId": "35fe8356-192a-4fdb-db88-9f6905f24133"
      },
      "execution_count": 11,
      "outputs": [
        {
          "output_type": "execute_result",
          "data": {
            "text/plain": [
              "array([0.00669285, 0.00739154, 0.00816257, 0.0090133 , 0.0099518 ,\n",
              "       0.01098694, 0.01212843, 0.01338692, 0.01477403, 0.0163025 ,\n",
              "       0.01798621, 0.01984031, 0.02188127, 0.02412702, 0.02659699,\n",
              "       0.02931223, 0.03229546, 0.03557119, 0.03916572, 0.04310725,\n",
              "       0.04742587, 0.05215356, 0.05732418, 0.06297336, 0.06913842,\n",
              "       0.07585818, 0.0831727 , 0.09112296, 0.09975049, 0.10909682,\n",
              "       0.11920292, 0.13010847, 0.14185106, 0.15446527, 0.16798161,\n",
              "       0.18242552, 0.19781611, 0.21416502, 0.23147522, 0.24973989,\n",
              "       0.26894142, 0.2890505 , 0.31002552, 0.33181223, 0.35434369,\n",
              "       0.37754067, 0.40131234, 0.42555748, 0.450166  , 0.47502081,\n",
              "       0.5       , 0.52497919, 0.549834  , 0.57444252, 0.59868766,\n",
              "       0.62245933, 0.64565631, 0.66818777, 0.68997448, 0.7109495 ,\n",
              "       0.73105858, 0.75026011, 0.76852478, 0.78583498, 0.80218389,\n",
              "       0.81757448, 0.83201839, 0.84553473, 0.85814894, 0.86989153,\n",
              "       0.88079708, 0.89090318, 0.90024951, 0.90887704, 0.9168273 ,\n",
              "       0.92414182, 0.93086158, 0.93702664, 0.94267582, 0.94784644,\n",
              "       0.95257413, 0.95689275, 0.96083428, 0.96442881, 0.96770454,\n",
              "       0.97068777, 0.97340301, 0.97587298, 0.97811873, 0.98015969,\n",
              "       0.98201379, 0.9836975 , 0.98522597, 0.98661308, 0.98787157,\n",
              "       0.98901306, 0.9900482 , 0.9909867 , 0.99183743, 0.99260846])"
            ]
          },
          "metadata": {},
          "execution_count": 11
        }
      ]
    },
    {
      "cell_type": "markdown",
      "source": [
        "## 完全なコード"
      ],
      "metadata": {
        "id": "YnvtTpfgKIji"
      }
    },
    {
      "cell_type": "code",
      "execution_count": null,
      "metadata": {
        "id": "qbM4Jm2JHILn",
        "outputId": "48997278-ada2-48f7-ab60-969d9a42d805"
      },
      "outputs": [
        {
          "data": {
            "image/png": "[encoded data removed]",
            "text/plain": [
              "<Figure size 640x480 with 1 Axes>"
            ]
          },
          "metadata": {},
          "output_type": "display_data"
        }
      ],
      "source": [
        "import numpy as np\n",
        "import matplotlib.pylab as plt\n",
        "\n",
        "\n",
        "def sigmoid(x):\n",
        "    \"\"\"\n",
        "    入力\n",
        "        x : nd.array, shape=(N,)\n",
        "    出力\n",
        "        x : nd.array, , shape=(N,)\n",
        "\n",
        "    ーー処理ーー\n",
        "    1. np.exp(-x)がxの配列の要素ごとに作用する。\n",
        "    2. 1/(1+X)がXの配列の要素ごとに作用する。\n",
        "    \"\"\"\n",
        "    return 1 / (1 + np.exp(-x))\n",
        "\n",
        "X = np.arange(-5.0, 5.0, 0.1)\n",
        "Y = sigmoid(X)\n",
        "plt.plot(X, Y)\n",
        "plt.ylim(-0.1, 1.1)\n",
        "plt.show()\n"
      ]
    },
    {
      "cell_type": "markdown",
      "metadata": {
        "id": "vW7sNA2XHILn"
      },
      "source": [
        "# ch03/sig_step_compare.py"
      ]
    },
    {
      "cell_type": "code",
      "execution_count": null,
      "metadata": {
        "id": "qzydkfsJHILn",
        "outputId": "aca8e899-f896-4a6d-d970-c13c1193a07b"
      },
      "outputs": [
        {
          "data": {
            "image/png": "[encoded data removed]",
            "text/plain": [
              "<Figure size 640x480 with 1 Axes>"
            ]
          },
          "metadata": {},
          "output_type": "display_data"
        }
      ],
      "source": [
        "import numpy as np\n",
        "import matplotlib.pylab as plt\n",
        "\n",
        "\n",
        "def sigmoid(x):\n",
        "    return 1 / (1 + np.exp(-x))\n",
        "\n",
        "\n",
        "def step_function(x):\n",
        "    return np.array(x > 0, dtype=int)\n",
        "\n",
        "x = np.arange(-5.0, 5.0, 0.1)\n",
        "y1 = sigmoid(x)\n",
        "y2 = step_function(x)\n",
        "\n",
        "# pyplotは1回だけ使うときや簡単な図示に最適\n",
        "plt.plot(x, y1)\n",
        "plt.plot(x, y2, 'k--')\n",
        "plt.ylim(-0.1, 1.1) #図で描画するy軸の範囲を指定\n",
        "plt.show()"
      ]
    },
    {
      "cell_type": "markdown",
      "metadata": {
        "id": "QXs5pmCYHILo"
      },
      "source": [
        "# ch03/relu.py"
      ]
    },
    {
      "cell_type": "markdown",
      "source": [
        "## 解説"
      ],
      "metadata": {
        "id": "qk6ZJQapMCEb"
      }
    },
    {
      "cell_type": "code",
      "source": [
        "x = np.arange(-5.0, 5.0, 0.1)\n",
        "def relu(x):\n",
        "    \"\"\"\n",
        "    入力\n",
        "        x : nd.array, shape=(N,)\n",
        "    出力\n",
        "        x : nd.array, , shape=(N,)\n",
        "\n",
        "    ーー処理ーー\n",
        "    1. ブロードキャスト\n",
        "        まず0がndim=1の配列np.array([0])に変換され、shapeをxにそろえるために、axis=0ほうこうに配列が複製される\n",
        "    2. [0, 0, 0, ...]と配列xの同じ要素を比較して、大きいほうを取り出した配列を返す\n",
        "    \"\"\"\n",
        "    return np.maximum(0, x)"
      ],
      "metadata": {
        "id": "BMHNjU3uMB3M"
      },
      "execution_count": 16,
      "outputs": []
    },
    {
      "cell_type": "code",
      "source": [
        "# 1. ブロードキャスト\n",
        "# 1.1 numpyに変換される。\n",
        "zero = np.array([0])\n",
        "print(zero.shape)\n",
        "zero"
      ],
      "metadata": {
        "colab": {
          "base_uri": "https://localhost:8080/"
        },
        "id": "stHNqU_dNRYQ",
        "outputId": "ee535172-48cb-49df-c972-a7ddfc1be7fd"
      },
      "execution_count": 26,
      "outputs": [
        {
          "output_type": "stream",
          "name": "stdout",
          "text": [
            "(1,)\n"
          ]
        },
        {
          "output_type": "execute_result",
          "data": {
            "text/plain": [
              "array([0])"
            ]
          },
          "metadata": {},
          "execution_count": 26
        }
      ]
    },
    {
      "cell_type": "code",
      "source": [
        "print(x.shape)"
      ],
      "metadata": {
        "colab": {
          "base_uri": "https://localhost:8080/"
        },
        "id": "70iP22BINm9p",
        "outputId": "bc1b0f29-99c1-44c1-e969-8de463e649b1"
      },
      "execution_count": 27,
      "outputs": [
        {
          "output_type": "stream",
          "name": "stdout",
          "text": [
            "(100,)\n"
          ]
        }
      ]
    },
    {
      "cell_type": "code",
      "source": [
        "#broadcastする形状が決まる\n",
        "broadcasted_shape = np.broadcast_shapes(zero.shape, x.shape)\n",
        "print(broadcasted_shape)"
      ],
      "metadata": {
        "colab": {
          "base_uri": "https://localhost:8080/"
        },
        "id": "b1Ntiyw1MFTM",
        "outputId": "dbebc870-f573-4782-962f-9e0edc4918b9"
      },
      "execution_count": 69,
      "outputs": [
        {
          "output_type": "stream",
          "name": "stdout",
          "text": [
            "(100,)\n"
          ]
        }
      ]
    },
    {
      "cell_type": "code",
      "source": [
        "#broadcastによって配列の形状が変化する。\n",
        "zero_broadcast = np.broadcast_to(zero, broadcasted_shape)\n",
        "print(zero_broadcast.shape)\n",
        "zero_broadcast"
      ],
      "metadata": {
        "colab": {
          "base_uri": "https://localhost:8080/"
        },
        "id": "1XjpIUDVNtqU",
        "outputId": "6165d814-08bc-4bb3-a6c6-509a0151e6c8"
      },
      "execution_count": 28,
      "outputs": [
        {
          "output_type": "stream",
          "name": "stdout",
          "text": [
            "(100,)\n"
          ]
        },
        {
          "output_type": "execute_result",
          "data": {
            "text/plain": [
              "array([0, 0, 0, 0, 0, 0, 0, 0, 0, 0, 0, 0, 0, 0, 0, 0, 0, 0, 0, 0, 0, 0,\n",
              "       0, 0, 0, 0, 0, 0, 0, 0, 0, 0, 0, 0, 0, 0, 0, 0, 0, 0, 0, 0, 0, 0,\n",
              "       0, 0, 0, 0, 0, 0, 0, 0, 0, 0, 0, 0, 0, 0, 0, 0, 0, 0, 0, 0, 0, 0,\n",
              "       0, 0, 0, 0, 0, 0, 0, 0, 0, 0, 0, 0, 0, 0, 0, 0, 0, 0, 0, 0, 0, 0,\n",
              "       0, 0, 0, 0, 0, 0, 0, 0, 0, 0, 0, 0])"
            ]
          },
          "metadata": {},
          "execution_count": 28
        }
      ]
    },
    {
      "cell_type": "code",
      "source": [
        "# 2 最大値成分を取り出す\n",
        "np.maximum(zero_broadcast, x)"
      ],
      "metadata": {
        "colab": {
          "base_uri": "https://localhost:8080/"
        },
        "id": "JEcO-N6DN0zJ",
        "outputId": "2cf603f5-4686-4138-da03-679f59aa9a54"
      },
      "execution_count": 30,
      "outputs": [
        {
          "output_type": "execute_result",
          "data": {
            "text/plain": [
              "array([0. , 0. , 0. , 0. , 0. , 0. , 0. , 0. , 0. , 0. , 0. , 0. , 0. ,\n",
              "       0. , 0. , 0. , 0. , 0. , 0. , 0. , 0. , 0. , 0. , 0. , 0. , 0. ,\n",
              "       0. , 0. , 0. , 0. , 0. , 0. , 0. , 0. , 0. , 0. , 0. , 0. , 0. ,\n",
              "       0. , 0. , 0. , 0. , 0. , 0. , 0. , 0. , 0. , 0. , 0. , 0. , 0.1,\n",
              "       0.2, 0.3, 0.4, 0.5, 0.6, 0.7, 0.8, 0.9, 1. , 1.1, 1.2, 1.3, 1.4,\n",
              "       1.5, 1.6, 1.7, 1.8, 1.9, 2. , 2.1, 2.2, 2.3, 2.4, 2.5, 2.6, 2.7,\n",
              "       2.8, 2.9, 3. , 3.1, 3.2, 3.3, 3.4, 3.5, 3.6, 3.7, 3.8, 3.9, 4. ,\n",
              "       4.1, 4.2, 4.3, 4.4, 4.5, 4.6, 4.7, 4.8, 4.9])"
            ]
          },
          "metadata": {},
          "execution_count": 30
        }
      ]
    },
    {
      "cell_type": "markdown",
      "source": [
        "## 完全なコード"
      ],
      "metadata": {
        "id": "d4aXh6HEL9kf"
      }
    },
    {
      "cell_type": "code",
      "execution_count": 31,
      "metadata": {
        "colab": {
          "base_uri": "https://localhost:8080/",
          "height": 430
        },
        "id": "jYEUn1fhHILo",
        "outputId": "e52f3e31-0e6f-4d0c-a185-734a3772c7d3"
      },
      "outputs": [
        {
          "output_type": "display_data",
          "data": {
            "text/plain": [
              "<Figure size 640x480 with 1 Axes>"
            ],
            "image/png": "[encoded data removed]"
          },
          "metadata": {}
        }
      ],
      "source": [
        "import numpy as np\n",
        "import matplotlib.pylab as plt\n",
        "\n",
        "\n",
        "def relu(x):\n",
        "    \"\"\"\n",
        "    入力\n",
        "        x : nd.array, shape=(N,)\n",
        "    出力\n",
        "        x : nd.array, , shape=(N,)\n",
        "\n",
        "    ーー処理ーー\n",
        "    1. ブロードキャスト\n",
        "        まず0がndim=1の配列np.array([0])に変換され、shapeをxにそろえるために、axis=0ほうこうに配列が複製される\n",
        "    2. [0, 0, 0, ...]と配列xの同じ要素を比較して、大きいほうを取り出した配列を返す\n",
        "    \"\"\"\n",
        "    return np.maximum(0, x)\n",
        "\n",
        "x = np.arange(-5.0, 5.0, 0.1)\n",
        "y = relu(x)\n",
        "plt.plot(x, y)\n",
        "plt.ylim(-1.0, 5.5)\n",
        "plt.show()"
      ]
    },
    {
      "cell_type": "markdown",
      "metadata": {
        "id": "u1sobOB8HILo"
      },
      "source": [
        "# ch03/mnist_show.py"
      ]
    },
    {
      "cell_type": "code",
      "source": [
        "!wget https://github.com/oreilly-japan/deep-learning-from-scratch/raw/master/dataset/mnist.py"
      ],
      "metadata": {
        "id": "eAbRgbe_b0KM",
        "outputId": "4dca8104-d1ad-4c25-bea7-0aa33b2424d4",
        "colab": {
          "base_uri": "https://localhost:8080/"
        }
      },
      "execution_count": 36,
      "outputs": [
        {
          "output_type": "stream",
          "name": "stdout",
          "text": [
            "--2025-02-02 06:53:16--  https://github.com/oreilly-japan/deep-learning-from-scratch/raw/master/dataset/mnist.py\n",
            "Resolving github.com (github.com)... 140.82.112.3\n",
            "Connecting to github.com (github.com)|140.82.112.3|:443... connected.\n",
            "HTTP request sent, awaiting response... 302 Found\n",
            "Location: https://raw.githubusercontent.com/oreilly-japan/deep-learning-from-scratch/master/dataset/mnist.py [following]\n",
            "--2025-02-02 06:53:16--  https://raw.githubusercontent.com/oreilly-japan/deep-learning-from-scratch/master/dataset/mnist.py\n",
            "Resolving raw.githubusercontent.com (raw.githubusercontent.com)... 185.199.108.133, 185.199.109.133, 185.199.110.133, ...\n",
            "Connecting to raw.githubusercontent.com (raw.githubusercontent.com)|185.199.108.133|:443... connected.\n",
            "HTTP request sent, awaiting response... 200 OK\n",
            "Length: 3813 (3.7K) [text/plain]\n",
            "Saving to: ‘mnist.py’\n",
            "\n",
            "mnist.py            100%[===================>]   3.72K  --.-KB/s    in 0s      \n",
            "\n",
            "2025-02-02 06:53:16 (39.8 MB/s) - ‘mnist.py’ saved [3813/3813]\n",
            "\n"
          ]
        }
      ]
    },
    {
      "cell_type": "code",
      "source": [
        "import sys, os\n",
        "sys.path.append(os.getcwd())  # カレントディレクトリを検索パスに追加\n",
        "from mnist import load_mnist"
      ],
      "metadata": {
        "id": "2I3gy_SGb5eC"
      },
      "execution_count": 39,
      "outputs": []
    },
    {
      "cell_type": "code",
      "source": [
        "import sys, os\n",
        "sys.path.append(os.pardir)  # 親ディレクトリのファイルをインポートするための設定\n",
        "import numpy as np\n",
        "# from dataset.mnist import load_mnist\n",
        "from PIL import Image"
      ],
      "metadata": {
        "id": "hQ1ksEKEOBaE"
      },
      "execution_count": 40,
      "outputs": []
    },
    {
      "cell_type": "code",
      "source": [
        "np.sqrt(784)"
      ],
      "metadata": {
        "id": "lw2fNc9Fu6FO",
        "outputId": "1ff4219e-afeb-4af4-87c4-029d042560e0",
        "colab": {
          "base_uri": "https://localhost:8080/"
        }
      },
      "execution_count": 104,
      "outputs": [
        {
          "output_type": "execute_result",
          "data": {
            "text/plain": [
              "28.0"
            ]
          },
          "metadata": {},
          "execution_count": 104
        }
      ]
    },
    {
      "cell_type": "code",
      "execution_count": 107,
      "metadata": {
        "colab": {
          "base_uri": "https://localhost:8080/"
        },
        "id": "HuE8fqjMHILo",
        "outputId": "fd1c8155-1eef-476b-81fd-9b12f6ff9380"
      },
      "outputs": [
        {
          "output_type": "stream",
          "name": "stdout",
          "text": [
            "(60000, 784)\n",
            "(60000,)\n",
            "(10000, 784)\n",
            "(10000,)\n"
          ]
        }
      ],
      "source": [
        "def img_show(img):\n",
        "    pil_img = Image.fromarray(np.uint8(img))\n",
        "    pil_img.show()\n",
        "\n",
        "(x_train, t_train), (x_test, t_test) = load_mnist(flatten=True, normalize=False)\n",
        "print(x_train.shape)\n",
        "print(t_train.shape)\n",
        "print(x_test.shape)\n",
        "print(t_test.shape)"
      ]
    },
    {
      "cell_type": "markdown",
      "source": [
        "(データ数, データの形状)という形になっていることに注意"
      ],
      "metadata": {
        "id": "pfUm4qQ-vZtr"
      }
    },
    {
      "cell_type": "code",
      "source": [
        "img = x_train[0] #axis=0を0で指定する＝データの0番目を取り出す\n",
        "label = t_train[0]\n",
        "print(label)  # 5\n",
        "\n",
        "print(img.shape)  # (784,) flatten=Trueによって、28*28の画像が784の一次元配列になっている。\n",
        "img = img.reshape(28, 28)  # 形状を元の画像サイズに変形\n",
        "print(img.shape)  # (28, 28)\n",
        "\n",
        "img_show(img)"
      ],
      "metadata": {
        "id": "6msjHeRUvSXV",
        "outputId": "3e7a5e68-2b58-40e9-d5e6-b34a111837c0",
        "colab": {
          "base_uri": "https://localhost:8080/"
        }
      },
      "execution_count": 108,
      "outputs": [
        {
          "output_type": "stream",
          "name": "stdout",
          "text": [
            "5\n",
            "(784,)\n",
            "(28, 28)\n"
          ]
        }
      ]
    },
    {
      "cell_type": "markdown",
      "metadata": {
        "id": "HCJyt56_HILo"
      },
      "source": [
        "# ch03/neuralnet_mnist.py"
      ]
    },
    {
      "cell_type": "code",
      "source": [
        "!git clone https://github.com/oreilly-japan/deep-learning-from-scratch.git"
      ],
      "metadata": {
        "id": "4UlQbt_fp7oy",
        "outputId": "55f40d01-e577-4ee8-efbf-2538f76801b5",
        "colab": {
          "base_uri": "https://localhost:8080/"
        }
      },
      "execution_count": 73,
      "outputs": [
        {
          "output_type": "stream",
          "name": "stdout",
          "text": [
            "Cloning into 'deep-learning-from-scratch'...\n",
            "remote: Enumerating objects: 573, done.\u001b[K\n",
            "remote: Counting objects: 100% (11/11), done.\u001b[K\n",
            "remote: Compressing objects: 100% (11/11), done.\u001b[K\n",
            "remote: Total 573 (delta 3), reused 0 (delta 0), pack-reused 562 (from 4)\u001b[K\n",
            "Receiving objects: 100% (573/573), 10.61 MiB | 23.82 MiB/s, done.\n",
            "Resolving deltas: 100% (290/290), done.\n"
          ]
        }
      ]
    },
    {
      "cell_type": "code",
      "source": [
        "import sys\n",
        "sys.path.append(\"/content/deep-learning-from-scratch/common\")  # `functions.py` のあるディレクトリをパスに追加\n",
        "from functions import sigmoid, softmax  # 必要な関数をインポート\n",
        "sys.path.append(\"/content/deep-learning-from-scratch/dataset\")\n",
        "from mnist import load_mnist"
      ],
      "metadata": {
        "id": "Civ8xc_UtZ_T"
      },
      "execution_count": 98,
      "outputs": []
    },
    {
      "cell_type": "code",
      "source": [
        "import sys, os\n",
        "sys.path.append(os.pardir)  # 親ディレクトリのファイルをインポートするための設定\n",
        "import numpy as np\n",
        "import pickle"
      ],
      "metadata": {
        "id": "1jXF13eGr3jX"
      },
      "execution_count": 99,
      "outputs": []
    },
    {
      "cell_type": "code",
      "execution_count": 115,
      "metadata": {
        "colab": {
          "base_uri": "https://localhost:8080/"
        },
        "id": "ZJGW1p62HILo",
        "outputId": "f6e50955-deb6-4c51-addd-3752855f6905"
      },
      "outputs": [
        {
          "output_type": "stream",
          "name": "stdout",
          "text": [
            "<class 'dict'>\n",
            "shape of Ws are (784, 50), (50, 100), (100, 10)\n",
            "shape of bs are (50,), (100,), (10,)\n",
            "Accuracy:0.9352\n"
          ]
        }
      ],
      "source": [
        "def get_data():\n",
        "    \"\"\"\n",
        "    データを取得するだけの関数。\n",
        "    今回は学習済みのパラメタを使うので、訓練データは使われない。\n",
        "    \"\"\"\n",
        "    (x_train, t_train), (x_test, t_test) = load_mnist(normalize=True, flatten=True, one_hot_label=False)\n",
        "    return x_test, t_test\n",
        "\n",
        "\n",
        "def init_network():\n",
        "    with open(\"ch03/sample_weight.pkl\", 'rb') as f:\n",
        "        #ファイルを開いて変数に保存\n",
        "        network = pickle.load(f)\n",
        "        print(type(network)) #networkはdict型\n",
        "    return network\n",
        "\n",
        "\n",
        "def predict(network, x):\n",
        "    #dict型のnetworkから学習済みのパラメタを取り出す。\n",
        "    W1, W2, W3 = network['W1'], network['W2'], network['W3']\n",
        "    b1, b2, b3 = network['b1'], network['b2'], network['b3']\n",
        "\n",
        "    \"\"\"\n",
        "    　ここではbatch処理をしていないので、(batch_size, X)は(X, )という1次元の配列になる。\n",
        "    \"\"\"\n",
        "    #隠れ層\n",
        "    #1層目のAffin変換\n",
        "    #  shape: (batch_size,784) * (784,50) + (50,)→(batch_size, 50)\n",
        "\n",
        "    #  b1はbroadcastで(50,)→(batch_size, 50)\n",
        "    a1 = np.dot(x, W1) + b1\n",
        "\n",
        "    #  1層目の活性化関数、shapeは同じ(batch_size, 50)\n",
        "    z1 = sigmoid(a1)\n",
        "\n",
        "    #隠れ層\n",
        "    #2層目のAffin変換\n",
        "    #  shape: (batch_size, 50) * (50,100) + (100,)→(batch_size, 100)\n",
        "    #  b1はbroadcastで(10,)→(batch_size, 100)\n",
        "    a2 = np.dot(z1, W2) + b2\n",
        "\n",
        "    # 2層目の活性化関数、shapeは同じ(batch_size, 100)\n",
        "    z2 = sigmoid(a2)\n",
        "\n",
        "    #出力層\n",
        "    #3層目のAffin変換\n",
        "    #  shape: (batch_size, 100) * (100,10) + (10,)→(batch_size, 10)\n",
        "    #  b1はbroadcastで(10,)→(batch_size, 10)\n",
        "    a3 = np.dot(z2, W3) + b3\n",
        "\n",
        "    #出力層のsoftmax\n",
        "    y = softmax(a3)\n",
        "\n",
        "    return y\n",
        "\n",
        "\n",
        "x, t = get_data() #訓練データとテストデータのラベルを取得\n",
        "network = init_network() #学習済みのパラメタをダウンロード\n",
        "accuracy_cnt = 0 #精度を初期化\n",
        "\n",
        "\n",
        "for i in range(len(x)): #すべてのテストデータでfor文。len(x)はx.shape[0]=データ数のこと\n",
        "\n",
        "    #i番目のデータからラベルの確率を計算。\n",
        "    # 入力: (784, )\n",
        "    # shape: (10, )\n",
        "    y = predict(network, x[i])\n",
        "\n",
        "    p= np.argmax(y) # 最も確率の高い要素のインデックスを取得\n",
        "    if p == t[i]:\n",
        "        accuracy_cnt += 1 #予測されたラベルと正解データが一致した時だけ1を足し、正解した数を合計。\n",
        "\n",
        "\n",
        "W1, W2, W3 = network['W1'], network['W2'], network['W3']\n",
        "b1, b2, b3 = network['b1'], network['b2'], network['b3']\n",
        "\n",
        "print(f\"shape of Ws are {W1.shape}, {W2.shape}, {W3.shape}\")\n",
        "print(f\"shape of bs are {b1.shape}, {b2.shape}, {b3.shape}\")\n",
        "\n",
        "print(\"Accuracy:\" + str(float(accuracy_cnt) / len(x)))"
      ]
    },
    {
      "cell_type": "markdown",
      "metadata": {
        "id": "Ex21CMZpHILp"
      },
      "source": [
        "# ch03/neuralnet_mnist_batch.py"
      ]
    },
    {
      "cell_type": "code",
      "execution_count": 119,
      "metadata": {
        "colab": {
          "base_uri": "https://localhost:8080/"
        },
        "id": "YXT8JnAqHILp",
        "outputId": "f4fbb638-a417-4b74-a7fb-5356ac80a9e3"
      },
      "outputs": [
        {
          "output_type": "stream",
          "name": "stdout",
          "text": [
            "<class 'dict'>\n",
            "Accuracy:0.9352\n"
          ]
        }
      ],
      "source": [
        "# import sys, os\n",
        "# sys.path.append(os.pardir)  # 親ディレクトリのファイルをインポートするための設定\n",
        "# import numpy as np\n",
        "# import pickle\n",
        "# from dataset.mnist import load_mnist\n",
        "# from common.functions import sigmoid, softmax\n",
        "\n",
        "\n",
        "def get_data():\n",
        "    (x_train, t_train), (x_test, t_test) = load_mnist(normalize=True, flatten=True, one_hot_label=False)\n",
        "    return x_test, t_test\n",
        "\n",
        "\n",
        "# def init_network():\n",
        "#     with open(\"../ch03/sample_weight.pkl\", 'rb') as f:\n",
        "#         network = pickle.load(f)\n",
        "#     return network\n",
        "\n",
        "def init_network():\n",
        "    with open(\"ch03/sample_weight.pkl\", 'rb') as f:\n",
        "        #ファイルを開いて変数に保存\n",
        "        network = pickle.load(f)\n",
        "        print(type(network)) #networkはdict型\n",
        "    return network\n",
        "\n",
        "def predict(network, x): #前項とおなじ\n",
        "    w1, w2, w3 = network['W1'], network['W2'], network['W3']\n",
        "    b1, b2, b3 = network['b1'], network['b2'], network['b3']\n",
        "\n",
        "    a1 = np.dot(x, w1) + b1\n",
        "    z1 = sigmoid(a1)\n",
        "    a2 = np.dot(z1, w2) + b2\n",
        "    z2 = sigmoid(a2)\n",
        "    a3 = np.dot(z2, w3) + b3\n",
        "    y = softmax(a3)\n",
        "\n",
        "    return y\n",
        "\n",
        "\n",
        "x, t = get_data()\n",
        "network = init_network()\n",
        "\n",
        "batch_size = 100 # バッチの数\n",
        "accuracy_cnt = 0\n",
        "\n",
        "for i in range(0, len(x), batch_size):\n",
        "    \"\"\"\n",
        "    batch sizeをNとすると、i=0, N, 2*N, ...となり、\n",
        "    x[i:i+batch_size]でi～i+(N-1)までのNこのデータが取り出される。\n",
        "    \"\"\"\n",
        "    x_batch = x[i:i+batch_size] #shape: (batch_size, 784)\n",
        "    y_batch = predict(network, x_batch) #shape: (batch_size, 10)\n",
        "    p = np.argmax(y_batch, axis=1) #shape: (batch_size,)、axis=1方向（10個の数字)での最大値のargを取り出す\n",
        "    accuracy_cnt += np.sum(p == t[i:i+batch_size]) #np.sumはbool型の時はTrueを1として足すので政界の数がわかる。\n",
        "\n",
        "print(\"Accuracy:\" + str(float(accuracy_cnt) / len(x)))\n"
      ]
    }
  ],
  "metadata": {
    "kernelspec": {
      "display_name": "dezero:Python",
      "language": "python",
      "name": "conda-env-dezero-py"
    },
    "language_info": {
      "codemirror_mode": {
        "name": "ipython",
        "version": 3
      },
      "file_extension": ".py",
      "mimetype": "text/x-python",
      "name": "python",
      "nbconvert_exporter": "python",
      "pygments_lexer": "ipython3",
      "version": "3.10.6"
    },
    "colab": {
      "provenance": []
    }
  },
  "nbformat": 4,
  "nbformat_minor": 0
}